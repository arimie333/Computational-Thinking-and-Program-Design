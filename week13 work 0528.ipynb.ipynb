{
  "nbformat": 4,
  "nbformat_minor": 0,
  "metadata": {
    "colab": {
      "name": "Untitled12.ipynb",
      "provenance": [],
      "authorship_tag": "ABX9TyO4444f9+fcFP8tqVqF3HN9",
      "include_colab_link": true
    },
    "kernelspec": {
      "name": "python3",
      "display_name": "Python 3"
    }
  },
  "cells": [
    {
      "cell_type": "markdown",
      "metadata": {
        "id": "view-in-github",
        "colab_type": "text"
      },
      "source": [
        "<a href=\"https://colab.research.google.com/github/arimie333/Computational-Thinking-and-Program-Design/blob/master/week13%20work%200528.ipynb.ipynb\" target=\"_parent\"><img src=\"https://colab.research.google.com/assets/colab-badge.svg\" alt=\"Open In Colab\"/></a>"
      ]
    },
    {
      "cell_type": "code",
      "metadata": {
        "id": "mJTfUAdk4gPK",
        "colab_type": "code",
        "colab": {
          "base_uri": "https://localhost:8080/",
          "height": 54
        },
        "outputId": "12aa862b-4a4b-4de2-ff83-db5b2659b5c6"
      },
      "source": [
        "score = int(input(\"請輸入成績\"))\n",
        "if score >= 80:\n",
        "        print(\"非常好\")\n",
        "if 80 > score >= 60:\n",
        "        print(\"不錯喔\")\n",
        "if score < 60:\n",
        "        print(\"要加油\")"
      ],
      "execution_count": 4,
      "outputs": [
        {
          "output_type": "stream",
          "text": [
            "請輸入成績90\n",
            "非常好\n"
          ],
          "name": "stdout"
        }
      ]
    },
    {
      "cell_type": "code",
      "metadata": {
        "id": "SLUBF88L6Qgh",
        "colab_type": "code",
        "colab": {
          "base_uri": "https://localhost:8080/",
          "height": 54
        },
        "outputId": "872d343e-0531-41f5-cca2-814008fa20fe"
      },
      "source": [
        "score = int(input(\"請輸入成績\"))\n",
        "if score >= 80:\n",
        "          print(\"非常好\")\n",
        "else:\n",
        "          if score >=60 :\n",
        "                  print(\"不錯喔\")\n",
        "          else:\n",
        "                  print(\"要加油\")"
      ],
      "execution_count": 9,
      "outputs": [
        {
          "output_type": "stream",
          "text": [
            "請輸入成績58\n",
            "要加油\n"
          ],
          "name": "stdout"
        }
      ]
    },
    {
      "cell_type": "code",
      "metadata": {
        "id": "_iD4D8k48NWN",
        "colab_type": "code",
        "colab": {
          "base_uri": "https://localhost:8080/",
          "height": 54
        },
        "outputId": "13bf4e0d-e7a0-4047-d14a-be04e8c94fc1"
      },
      "source": [
        "score = int(input(\"請輸入成績\"))\n",
        "if score >=80:\n",
        "          print(\"非常好\")\n",
        "elif score >= 60:\n",
        "          print(\"不錯喔\")\n",
        "else :\n",
        "          print(\"要加油\")"
      ],
      "execution_count": 10,
      "outputs": [
        {
          "output_type": "stream",
          "text": [
            "請輸入成績32\n",
            "要加油\n"
          ],
          "name": "stdout"
        }
      ]
    }
  ]
}