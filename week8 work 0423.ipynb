{
  "nbformat": 4,
  "nbformat_minor": 0,
  "metadata": {
    "colab": {
      "name": "Untitled7.ipynb",
      "provenance": [],
      "authorship_tag": "ABX9TyOAkCQAvFR1IBO3Z/B4gh9x",
      "include_colab_link": true
    },
    "kernelspec": {
      "name": "python3",
      "display_name": "Python 3"
    }
  },
  "cells": [
    {
      "cell_type": "markdown",
      "metadata": {
        "id": "view-in-github",
        "colab_type": "text"
      },
      "source": [
        "<a href=\"https://colab.research.google.com/github/arimie333/Computational-Thinking-and-Program-Design/blob/master/week8%20work%200423.ipynb\" target=\"_parent\"><img src=\"https://colab.research.google.com/assets/colab-badge.svg\" alt=\"Open In Colab\"/></a>"
      ]
    },
    {
      "cell_type": "code",
      "metadata": {
        "id": "dfz2m1i3ga5j",
        "colab_type": "code",
        "colab": {}
      },
      "source": [
        "# 1. 建立變數,輸入資料並儲存"
      ],
      "execution_count": 0,
      "outputs": []
    },
    {
      "cell_type": "code",
      "metadata": {
        "id": "iAyobkVJgd_X",
        "colab_type": "code",
        "colab": {}
      },
      "source": [
        "minutes_to_convert = 133 #電影魔球時間長度(分鐘)"
      ],
      "execution_count": 0,
      "outputs": []
    },
    {
      "cell_type": "code",
      "metadata": {
        "id": "aP_7qPDJgeFU",
        "colab_type": "code",
        "colab": {}
      },
      "source": [
        "# 2. 方法(一)"
      ],
      "execution_count": 0,
      "outputs": []
    },
    {
      "cell_type": "code",
      "metadata": {
        "id": "IopD_lyvgeK0",
        "colab_type": "code",
        "colab": {}
      },
      "source": [
        "## 變數轉換為小時數"
      ],
      "execution_count": 0,
      "outputs": []
    },
    {
      "cell_type": "code",
      "metadata": {
        "id": "LlQFkimlgeQ9",
        "colab_type": "code",
        "colab": {}
      },
      "source": [
        "hours_decimal = minutes_to_convert/60 #數學運算除以60"
      ],
      "execution_count": 0,
      "outputs": []
    },
    {
      "cell_type": "code",
      "metadata": {
        "id": "nzazYqDvgeUk",
        "colab_type": "code",
        "colab": {}
      },
      "source": [
        "hours_part = int(hours_decimal) #將浮點數結果轉換為整數"
      ],
      "execution_count": 0,
      "outputs": []
    },
    {
      "cell_type": "code",
      "metadata": {
        "id": "mJixAGiFgeYc",
        "colab_type": "code",
        "colab": {}
      },
      "source": [
        "minutes_decimal = hours_decimal - hours_part #浮點數減整數取得小數"
      ],
      "execution_count": 0,
      "outputs": []
    },
    {
      "cell_type": "code",
      "metadata": {
        "id": "tU2nNK3Tgeb0",
        "colab_type": "code",
        "colab": {}
      },
      "source": [
        "minutes_part = round(minutes_decimal*60) #小數乘60得分鐘數,但要四捨五入才行"
      ],
      "execution_count": 0,
      "outputs": []
    },
    {
      "cell_type": "code",
      "metadata": {
        "id": "rpXy1Zvugegc",
        "colab_type": "code",
        "colab": {}
      },
      "source": [
        "# 2. 方法(二)"
      ],
      "execution_count": 0,
      "outputs": []
    },
    {
      "cell_type": "code",
      "metadata": {
        "id": "_ar_dUnpgekE",
        "colab_type": "code",
        "colab": {}
      },
      "source": [
        "minutes_part = minutes_to_convert//60 #商數運算取得小時數"
      ],
      "execution_count": 0,
      "outputs": []
    },
    {
      "cell_type": "code",
      "metadata": {
        "id": "l9N-MEMeg64n",
        "colab_type": "code",
        "colab": {}
      },
      "source": [
        "minutes_part = minutes_to_convert%60 #餘數運算取得分鐘數"
      ],
      "execution_count": 0,
      "outputs": []
    },
    {
      "cell_type": "code",
      "metadata": {
        "id": "H-HMiYexg6_1",
        "colab_type": "code",
        "colab": {
          "base_uri": "https://localhost:8080/",
          "height": 90
        },
        "outputId": "2a96a921-b85b-46cd-d416-4d96ef14e5f3"
      },
      "source": [
        "print(\"Hours\")\n",
        "print(hours_part)\n",
        "print(\"Minutes\")\n",
        "print(minutes_part)"
      ],
      "execution_count": 8,
      "outputs": [
        {
          "output_type": "stream",
          "text": [
            "Hours\n",
            "2\n",
            "Minutes\n",
            "13\n"
          ],
          "name": "stdout"
        }
      ]
    },
    {
      "cell_type": "code",
      "metadata": {
        "id": "ibwWwyIPhXqn",
        "colab_type": "code",
        "colab": {
          "base_uri": "https://localhost:8080/",
          "height": 35
        },
        "outputId": "91ad9ea9-f9f1-4437-9985-74a51aea0ee5"
      },
      "source": [
        "print(minutes_to_convert)"
      ],
      "execution_count": 9,
      "outputs": [
        {
          "output_type": "stream",
          "text": [
            "133\n"
          ],
          "name": "stdout"
        }
      ]
    }
  ]
}