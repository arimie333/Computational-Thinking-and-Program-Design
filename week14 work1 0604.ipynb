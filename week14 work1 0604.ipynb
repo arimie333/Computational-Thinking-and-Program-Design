{
  "nbformat": 4,
  "nbformat_minor": 0,
  "metadata": {
    "colab": {
      "name": "Untitled15.ipynb",
      "provenance": [],
      "authorship_tag": "ABX9TyNfeevbyhBMRZ55TOuwhG00",
      "include_colab_link": true
    },
    "kernelspec": {
      "name": "python3",
      "display_name": "Python 3"
    }
  },
  "cells": [
    {
      "cell_type": "markdown",
      "metadata": {
        "id": "view-in-github",
        "colab_type": "text"
      },
      "source": [
        "<a href=\"https://colab.research.google.com/github/arimie333/Computational-Thinking-and-Program-Design/blob/master/week14%20work1%200604.ipynb\" target=\"_parent\"><img src=\"https://colab.research.google.com/assets/colab-badge.svg\" alt=\"Open In Colab\"/></a>"
      ]
    },
    {
      "cell_type": "code",
      "metadata": {
        "id": "jv0EctMPzb4m",
        "colab_type": "code",
        "colab": {
          "base_uri": "https://localhost:8080/",
          "height": 35
        },
        "outputId": "0e3cfa62-021a-4624-9ab2-08c1fb9df185"
      },
      "source": [
        "height = float(input(\"請輸入身高,單位為公尺\"))"
      ],
      "execution_count": 6,
      "outputs": [
        {
          "output_type": "stream",
          "text": [
            "請輸入身高,單位為公尺1.8\n"
          ],
          "name": "stdout"
        }
      ]
    },
    {
      "cell_type": "code",
      "metadata": {
        "id": "u494KJf0zqZ7",
        "colab_type": "code",
        "colab": {
          "base_uri": "https://localhost:8080/",
          "height": 35
        },
        "outputId": "cd24654d-56dd-46a2-8d3e-03decfe34a5d"
      },
      "source": [
        "weight = float(input(\"請輸入體重,單位為公斤\"))"
      ],
      "execution_count": 10,
      "outputs": [
        {
          "output_type": "stream",
          "text": [
            "請輸入體重,單位為公斤120\n"
          ],
          "name": "stdout"
        }
      ]
    },
    {
      "cell_type": "code",
      "metadata": {
        "id": "vYgu6yjhzzYK",
        "colab_type": "code",
        "colab": {
          "base_uri": "https://localhost:8080/",
          "height": 54
        },
        "outputId": "8ed70917-208c-409e-dd60-9d365d86392e"
      },
      "source": [
        "BMI = weight / (height * height)\n",
        "print(BMI)\n",
        "if BMI >= 30:\n",
        "        print(\"肥胖\")\n",
        "if 30 > BMI >= 25:\n",
        "        print(\"體重過重\")\n",
        "if 25 > BMI >= 18.5:\n",
        "        print(\"體重正常(健康體重)\")\n",
        "if 18.5 > BMI >= 16:\n",
        "        print(\"體重過輕\")\n"
      ],
      "execution_count": 11,
      "outputs": [
        {
          "output_type": "stream",
          "text": [
            "37.03703703703704\n",
            "肥胖\n"
          ],
          "name": "stdout"
        }
      ]
    }
  ]
}