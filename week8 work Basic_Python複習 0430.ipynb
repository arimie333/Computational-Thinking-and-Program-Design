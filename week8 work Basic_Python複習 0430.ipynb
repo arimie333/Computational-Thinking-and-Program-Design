{
  "nbformat": 4,
  "nbformat_minor": 0,
  "metadata": {
    "kernelspec": {
      "display_name": "Python 3",
      "language": "python",
      "name": "python3"
    },
    "language_info": {
      "codemirror_mode": {
        "name": "ipython",
        "version": 3
      },
      "file_extension": ".py",
      "mimetype": "text/x-python",
      "name": "python",
      "nbconvert_exporter": "python",
      "pygments_lexer": "ipython3",
      "version": "3.7.4"
    },
    "colab": {
      "name": "Basic Python複習.ipynb",
      "provenance": [],
      "include_colab_link": true
    }
  },
  "cells": [
    {
      "cell_type": "markdown",
      "metadata": {
        "id": "view-in-github",
        "colab_type": "text"
      },
      "source": [
        "<a href=\"https://colab.research.google.com/github/arimie333/Computational-Thinking-and-Program-Design/blob/master/week8%20work%20Basic_Python%E8%A4%87%E7%BF%92%200430.ipynb\" target=\"_parent\"><img src=\"https://colab.research.google.com/assets/colab-badge.svg\" alt=\"Open In Colab\"/></a>"
      ]
    },
    {
      "cell_type": "markdown",
      "metadata": {
        "id": "sN926QvsGUXO",
        "colab_type": "text"
      },
      "source": [
        "### LBD 1: 請設計一個程式計算圓面積與圓周長，依輸入的半徑計算圓面積與圓周長。"
      ]
    },
    {
      "cell_type": "code",
      "metadata": {
        "id": "2-slz5kVGUXP",
        "colab_type": "code",
        "colab": {
          "base_uri": "https://localhost:8080/",
          "height": 35
        },
        "outputId": "ffb14c4b-6c3e-4670-cc0e-b574f3fdfe24"
      },
      "source": [
        "半徑 = float(input('請輸入半徑?'))"
      ],
      "execution_count": 5,
      "outputs": [
        {
          "output_type": "stream",
          "text": [
            "請輸入半徑?2\n"
          ],
          "name": "stdout"
        }
      ]
    },
    {
      "cell_type": "code",
      "metadata": {
        "id": "jwWy1RPyfnR8",
        "colab_type": "code",
        "colab": {}
      },
      "source": [
        "PI = 3.14159"
      ],
      "execution_count": 0,
      "outputs": []
    },
    {
      "cell_type": "code",
      "metadata": {
        "id": "jogBnoO-fnVU",
        "colab_type": "code",
        "colab": {}
      },
      "source": [
        "圓周長 = 2 * PI * 半徑"
      ],
      "execution_count": 0,
      "outputs": []
    },
    {
      "cell_type": "code",
      "metadata": {
        "id": "vbJNWzL4fnoD",
        "colab_type": "code",
        "colab": {}
      },
      "source": [
        "圓面積 = 半徑 * 半徑 * PI"
      ],
      "execution_count": 0,
      "outputs": []
    },
    {
      "cell_type": "code",
      "metadata": {
        "id": "r1CgZeF2fnr0",
        "colab_type": "code",
        "colab": {
          "base_uri": "https://localhost:8080/",
          "height": 35
        },
        "outputId": "3e2ec477-40b6-4584-af0b-3af85752ace6"
      },
      "source": [
        "print('圓周長為', 圓周長, '圓面積為', 圓面積)"
      ],
      "execution_count": 10,
      "outputs": [
        {
          "output_type": "stream",
          "text": [
            "圓周長為 12.56636 圓面積為 12.56636\n"
          ],
          "name": "stdout"
        }
      ]
    },
    {
      "cell_type": "markdown",
      "metadata": {
        "id": "oOcVBQ0qGUXS",
        "colab_type": "text"
      },
      "source": [
        "### LBD 2: 請設計一個程式將輸入的攝氏溫度轉成華氏溫度，轉換公式如下:華氏溫度= 攝氏溫度*9/5+32"
      ]
    },
    {
      "cell_type": "code",
      "metadata": {
        "id": "I2-ot2oLGUXT",
        "colab_type": "code",
        "colab": {
          "base_uri": "https://localhost:8080/",
          "height": 35
        },
        "outputId": "eb9cec88-3b94-47ce-b567-64fdf20efa28"
      },
      "source": [
        "c = float(input('請輸入攝氏溫度?'))"
      ],
      "execution_count": 13,
      "outputs": [
        {
          "output_type": "stream",
          "text": [
            "請輸入攝氏溫度?25\n"
          ],
          "name": "stdout"
        }
      ]
    },
    {
      "cell_type": "code",
      "metadata": {
        "id": "0Y88U_zpf_pF",
        "colab_type": "code",
        "colab": {}
      },
      "source": [
        "f = c * 9/5 + 32"
      ],
      "execution_count": 0,
      "outputs": []
    },
    {
      "cell_type": "code",
      "metadata": {
        "id": "o_67Uk7Rf_xE",
        "colab_type": "code",
        "colab": {
          "base_uri": "https://localhost:8080/",
          "height": 35
        },
        "outputId": "ab0d138d-ad9f-4c48-b360-c3ebf28f2a3b"
      },
      "source": [
        "print('華氏溫度為', f)"
      ],
      "execution_count": 15,
      "outputs": [
        {
          "output_type": "stream",
          "text": [
            "華氏溫度為 77.0\n"
          ],
          "name": "stdout"
        }
      ]
    },
    {
      "cell_type": "code",
      "metadata": {
        "id": "py6wPXygf_6D",
        "colab_type": "code",
        "colab": {}
      },
      "source": [
        "# 華氏轉攝氏"
      ],
      "execution_count": 0,
      "outputs": []
    },
    {
      "cell_type": "code",
      "metadata": {
        "id": "ArH8Dmmef_-j",
        "colab_type": "code",
        "colab": {}
      },
      "source": [
        "c1 = (f - 32) * (5/9)"
      ],
      "execution_count": 0,
      "outputs": []
    },
    {
      "cell_type": "code",
      "metadata": {
        "id": "7i7CsNPrgAB0",
        "colab_type": "code",
        "colab": {
          "base_uri": "https://localhost:8080/",
          "height": 35
        },
        "outputId": "cc3ae5c4-1f8f-4e8c-d678-dda3d899041e"
      },
      "source": [
        "print(\"攝氏溫度\", c1)"
      ],
      "execution_count": 17,
      "outputs": [
        {
          "output_type": "stream",
          "text": [
            "攝氏溫度 25.0\n"
          ],
          "name": "stdout"
        }
      ]
    },
    {
      "cell_type": "markdown",
      "metadata": {
        "id": "c14IvE9CGUXY",
        "colab_type": "text"
      },
      "source": [
        "### LBD 3: 假設上衣300元、褲子350元與背心400元，使用者可以自行輸入三種服裝的數量，請設計一個程式計算訂購服裝的總金額。"
      ]
    },
    {
      "cell_type": "code",
      "metadata": {
        "id": "2LaEyo0eGUXZ",
        "colab_type": "code",
        "colab": {
          "base_uri": "https://localhost:8080/",
          "height": 35
        },
        "outputId": "c9466749-ac19-4cfc-8bb8-db2a92c0b0fd"
      },
      "source": [
        "上衣 = int(input('請輸入上衣數量?'))"
      ],
      "execution_count": 18,
      "outputs": [
        {
          "output_type": "stream",
          "text": [
            "請輸入上衣數量?25\n"
          ],
          "name": "stdout"
        }
      ]
    },
    {
      "cell_type": "code",
      "metadata": {
        "id": "aUI6DI6fgbxt",
        "colab_type": "code",
        "colab": {
          "base_uri": "https://localhost:8080/",
          "height": 35
        },
        "outputId": "64270813-9572-4d53-8861-e825b79356f6"
      },
      "source": [
        "褲子 = int(input('請輸入褲子數量?'))"
      ],
      "execution_count": 19,
      "outputs": [
        {
          "output_type": "stream",
          "text": [
            "請輸入褲子數量?30\n"
          ],
          "name": "stdout"
        }
      ]
    },
    {
      "cell_type": "code",
      "metadata": {
        "id": "ZKviK4wEgb0D",
        "colab_type": "code",
        "colab": {
          "base_uri": "https://localhost:8080/",
          "height": 35
        },
        "outputId": "58cd36cb-2018-4e0e-94f1-ae2b5152a7ae"
      },
      "source": [
        "背心 = int(input('請輸入背心數量?'))"
      ],
      "execution_count": 20,
      "outputs": [
        {
          "output_type": "stream",
          "text": [
            "請輸入背心數量?40\n"
          ],
          "name": "stdout"
        }
      ]
    },
    {
      "cell_type": "code",
      "metadata": {
        "id": "CB2IqpeFgb3M",
        "colab_type": "code",
        "colab": {}
      },
      "source": [
        "總金額 = 上衣*300 + 褲子*350 + 背心*400"
      ],
      "execution_count": 0,
      "outputs": []
    },
    {
      "cell_type": "code",
      "metadata": {
        "id": "NsiiV5pdgb6U",
        "colab_type": "code",
        "colab": {
          "base_uri": "https://localhost:8080/",
          "height": 35
        },
        "outputId": "360cd474-bc61-459f-985f-522d8db61487"
      },
      "source": [
        "print('訂購服裝的總金額為', 總金額)"
      ],
      "execution_count": 22,
      "outputs": [
        {
          "output_type": "stream",
          "text": [
            "訂購服裝的總金額為 34000\n"
          ],
          "name": "stdout"
        }
      ]
    },
    {
      "cell_type": "markdown",
      "metadata": {
        "id": "fRsgdKMxGUXc",
        "colab_type": "text"
      },
      "source": [
        "### LBD 4: 為了刺激銷售量，賣場通常買一打會比買一罐便宜，假設一罐賣20元，一打賣200元，請設計一個程式計算買幾罐需花多少錢，若不足一打就個別買。"
      ]
    },
    {
      "cell_type": "code",
      "metadata": {
        "id": "HAqDX3vrGUXd",
        "colab_type": "code",
        "colab": {
          "base_uri": "https://localhost:8080/",
          "height": 35
        },
        "outputId": "463158be-9c8a-49fd-f46e-61e09d527b3a"
      },
      "source": [
        "罐數 = int(input('請輸入購買飲料的罐數?'))"
      ],
      "execution_count": 23,
      "outputs": [
        {
          "output_type": "stream",
          "text": [
            "請輸入購買飲料的罐數?8\n"
          ],
          "name": "stdout"
        }
      ]
    },
    {
      "cell_type": "code",
      "metadata": {
        "id": "WkGqOusggyL0",
        "colab_type": "code",
        "colab": {}
      },
      "source": [
        "金額 = (罐數//12)*200 + (罐數%12)*20"
      ],
      "execution_count": 0,
      "outputs": []
    },
    {
      "cell_type": "code",
      "metadata": {
        "id": "7Q1FR3lYgyOM",
        "colab_type": "code",
        "colab": {
          "base_uri": "https://localhost:8080/",
          "height": 35
        },
        "outputId": "2733d4d2-b697-4c99-8f91-c6b07d924af0"
      },
      "source": [
        "print('需花費', 金額)"
      ],
      "execution_count": 25,
      "outputs": [
        {
          "output_type": "stream",
          "text": [
            "需花費 160\n"
          ],
          "name": "stdout"
        }
      ]
    },
    {
      "cell_type": "markdown",
      "metadata": {
        "id": "D2HCggJ1GUXf",
        "colab_type": "text"
      },
      "source": [
        "### LBD 5: 請輸入第一次期中考、第二次期中考與期末考成績，成績皆為整數，請計算分數的加總與平均。"
      ]
    },
    {
      "cell_type": "code",
      "metadata": {
        "id": "-mLPMTskGUXg",
        "colab_type": "code",
        "colab": {
          "base_uri": "https://localhost:8080/",
          "height": 35
        },
        "outputId": "7e430a2d-1051-4d01-ce6b-1acffbb40d13"
      },
      "source": [
        "第一次期中考成績 = int(input(\"請輸入第一次期中考成績\"))"
      ],
      "execution_count": 26,
      "outputs": [
        {
          "output_type": "stream",
          "text": [
            "請輸入第一次期中考成績80\n"
          ],
          "name": "stdout"
        }
      ]
    },
    {
      "cell_type": "code",
      "metadata": {
        "id": "e-L1lgz4GUXj",
        "colab_type": "code",
        "colab": {
          "base_uri": "https://localhost:8080/",
          "height": 35
        },
        "outputId": "fa0334ed-c3ac-43a5-8d65-4288e989c619"
      },
      "source": [
        "第二次期中考成績 = int(input(\"請輸入第二次期中考成績\"))"
      ],
      "execution_count": 27,
      "outputs": [
        {
          "output_type": "stream",
          "text": [
            "請輸入第二次期中考成績85\n"
          ],
          "name": "stdout"
        }
      ]
    },
    {
      "cell_type": "code",
      "metadata": {
        "id": "6mOaPPVmfmMt",
        "colab_type": "code",
        "colab": {
          "base_uri": "https://localhost:8080/",
          "height": 35
        },
        "outputId": "86906c91-81ab-47f0-89c5-541726984394"
      },
      "source": [
        "期末考成績 = int(input(\"請輸入期末考成績\"))"
      ],
      "execution_count": 28,
      "outputs": [
        {
          "output_type": "stream",
          "text": [
            "請輸入期末考成績85\n"
          ],
          "name": "stdout"
        }
      ]
    },
    {
      "cell_type": "code",
      "metadata": {
        "id": "1fy6_3OEkH-d",
        "colab_type": "code",
        "colab": {}
      },
      "source": [
        "總分數 = 第一次期中考成績 + 第二次期中考成績 + 期末考成績"
      ],
      "execution_count": 0,
      "outputs": []
    },
    {
      "cell_type": "code",
      "metadata": {
        "id": "0YEHqV6xkID9",
        "colab_type": "code",
        "colab": {
          "base_uri": "https://localhost:8080/",
          "height": 35
        },
        "outputId": "b86d96b6-e00e-4f40-85d1-d0097d481aaf"
      },
      "source": [
        "print(\"總分數為\",總分數)"
      ],
      "execution_count": 30,
      "outputs": [
        {
          "output_type": "stream",
          "text": [
            "總分數為 250\n"
          ],
          "name": "stdout"
        }
      ]
    },
    {
      "cell_type": "code",
      "metadata": {
        "id": "yAU25W02kmrp",
        "colab_type": "code",
        "colab": {}
      },
      "source": [
        "平均分數 = (第一次期中考成績 + 第二次期中考成績 + 期末考成績)//3"
      ],
      "execution_count": 0,
      "outputs": []
    },
    {
      "cell_type": "code",
      "metadata": {
        "id": "-2_m_z2akm7M",
        "colab_type": "code",
        "colab": {
          "base_uri": "https://localhost:8080/",
          "height": 35
        },
        "outputId": "3b4cf000-91ce-4f69-e588-6ae4124d111b"
      },
      "source": [
        "print(\"平均分數為\",平均分數)"
      ],
      "execution_count": 32,
      "outputs": [
        {
          "output_type": "stream",
          "text": [
            "平均分數為 83\n"
          ],
          "name": "stdout"
        }
      ]
    }
  ]
}