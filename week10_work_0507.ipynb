{
  "nbformat": 4,
  "nbformat_minor": 0,
  "metadata": {
    "colab": {
      "name": "week10 work 0507.ipynb",
      "provenance": [],
      "authorship_tag": "ABX9TyPdTt5eYprZpdeNNyzfhCWc",
      "include_colab_link": true
    },
    "kernelspec": {
      "name": "python3",
      "display_name": "Python 3"
    }
  },
  "cells": [
    {
      "cell_type": "markdown",
      "metadata": {
        "id": "view-in-github",
        "colab_type": "text"
      },
      "source": [
        "<a href=\"https://colab.research.google.com/github/arimie333/Computational-Thinking-and-Program-Design/blob/master/week10_work_0507.ipynb\" target=\"_parent\"><img src=\"https://colab.research.google.com/assets/colab-badge.svg\" alt=\"Open In Colab\"/></a>"
      ]
    },
    {
      "cell_type": "code",
      "metadata": {
        "id": "TXHhWLkgvxZq",
        "colab_type": "code",
        "colab": {}
      },
      "source": [
        "# 問題3:假設上衣300元、褲子350元與背心400元，使用者可以自行輸入三種服裝的數量，請設計一個程式計算訂購服裝的總金額。"
      ],
      "execution_count": 0,
      "outputs": []
    },
    {
      "cell_type": "code",
      "metadata": {
        "id": "iYaglSjGx2TB",
        "colab_type": "code",
        "colab": {
          "base_uri": "https://localhost:8080/",
          "height": 35
        },
        "outputId": "f95919f9-2dd9-4b95-ceb4-e1b264fca08b"
      },
      "source": [
        "上衣 = int(input('請輸入上衣數量?'))"
      ],
      "execution_count": 1,
      "outputs": [
        {
          "output_type": "stream",
          "text": [
            "請輸入上衣數量?25\n"
          ],
          "name": "stdout"
        }
      ]
    },
    {
      "cell_type": "code",
      "metadata": {
        "id": "vHOodyxvx2b2",
        "colab_type": "code",
        "colab": {
          "base_uri": "https://localhost:8080/",
          "height": 35
        },
        "outputId": "3bda02d9-8f1c-48bf-b6f4-856a61e42d10"
      },
      "source": [
        "褲子 = int(input('請輸入褲子數量?'))"
      ],
      "execution_count": 2,
      "outputs": [
        {
          "output_type": "stream",
          "text": [
            "請輸入褲子數量?30\n"
          ],
          "name": "stdout"
        }
      ]
    },
    {
      "cell_type": "code",
      "metadata": {
        "id": "AeJEH2oMx2iO",
        "colab_type": "code",
        "colab": {
          "base_uri": "https://localhost:8080/",
          "height": 35
        },
        "outputId": "3d5aaef5-16d8-4692-88ca-01212944bbbb"
      },
      "source": [
        "背心 = int(input('請輸入背心數量?'))"
      ],
      "execution_count": 3,
      "outputs": [
        {
          "output_type": "stream",
          "text": [
            "請輸入背心數量?40\n"
          ],
          "name": "stdout"
        }
      ]
    },
    {
      "cell_type": "code",
      "metadata": {
        "id": "joixHwzBx7l-",
        "colab_type": "code",
        "colab": {}
      },
      "source": [
        "總金額 = 上衣*300 + 褲子*350 + 背心*400"
      ],
      "execution_count": 0,
      "outputs": []
    },
    {
      "cell_type": "code",
      "metadata": {
        "id": "FLN00XDfx7tO",
        "colab_type": "code",
        "colab": {
          "base_uri": "https://localhost:8080/",
          "height": 35
        },
        "outputId": "0735faa6-6efe-4cc1-d6a0-43a1b61fa965"
      },
      "source": [
        "print('訂購服裝的總金額為', 總金額)"
      ],
      "execution_count": 5,
      "outputs": [
        {
          "output_type": "stream",
          "text": [
            "訂購服裝的總金額為 34000\n"
          ],
          "name": "stdout"
        }
      ]
    },
    {
      "cell_type": "code",
      "metadata": {
        "id": "zTkqlns3x73F",
        "colab_type": "code",
        "colab": {}
      },
      "source": [
        "# 問題4:為了刺激銷售量，賣場通常買一打會比買一罐便宜，假設一罐賣20元，一打賣200元，請設計一個程式計算買幾罐需花多少錢，若不足一打就個別買。"
      ],
      "execution_count": 0,
      "outputs": []
    },
    {
      "cell_type": "code",
      "metadata": {
        "id": "nzTePWNhyMxg",
        "colab_type": "code",
        "colab": {
          "base_uri": "https://localhost:8080/",
          "height": 35
        },
        "outputId": "4f0461c8-a999-493e-f499-356dba8b4c15"
      },
      "source": [
        "罐數 = int(input('請輸入購買飲料的罐數?'))"
      ],
      "execution_count": 6,
      "outputs": [
        {
          "output_type": "stream",
          "text": [
            "請輸入購買飲料的罐數?20\n"
          ],
          "name": "stdout"
        }
      ]
    },
    {
      "cell_type": "code",
      "metadata": {
        "id": "puKg-e_WyMzu",
        "colab_type": "code",
        "colab": {}
      },
      "source": [
        "金額 = (罐數//12)*200 + (罐數%12)*20"
      ],
      "execution_count": 0,
      "outputs": []
    },
    {
      "cell_type": "code",
      "metadata": {
        "id": "KatgoxP7yM2O",
        "colab_type": "code",
        "colab": {
          "base_uri": "https://localhost:8080/",
          "height": 35
        },
        "outputId": "f69e5331-48ae-4e37-e83b-5fa25e8e3ddf"
      },
      "source": [
        "print('需花費', 金額)"
      ],
      "execution_count": 8,
      "outputs": [
        {
          "output_type": "stream",
          "text": [
            "需花費 360\n"
          ],
          "name": "stdout"
        }
      ]
    },
    {
      "cell_type": "code",
      "metadata": {
        "id": "odMWjcVYyM4m",
        "colab_type": "code",
        "colab": {}
      },
      "source": [
        "# 問題5:請輸入第一次期中考、第二次期中考與期末考成績，成績皆為整數，請計算分數的加總與平均。"
      ],
      "execution_count": 0,
      "outputs": []
    },
    {
      "cell_type": "code",
      "metadata": {
        "id": "hHjVO4fNyM6_",
        "colab_type": "code",
        "colab": {
          "base_uri": "https://localhost:8080/",
          "height": 35
        },
        "outputId": "c13e6f25-43f7-4387-f78f-6afbf9b132d3"
      },
      "source": [
        "第一次期中考成績 = int(input(\"請輸入第一次期中考成績\"))"
      ],
      "execution_count": 9,
      "outputs": [
        {
          "output_type": "stream",
          "text": [
            "請輸入第一次期中考成績80\n"
          ],
          "name": "stdout"
        }
      ]
    },
    {
      "cell_type": "code",
      "metadata": {
        "id": "DMlA6Mn-yM9Y",
        "colab_type": "code",
        "colab": {
          "base_uri": "https://localhost:8080/",
          "height": 35
        },
        "outputId": "5248aea3-77c1-43d5-b0fa-1f110c79a981"
      },
      "source": [
        "第二次期中考成績 = int(input(\"請輸入第二次期中考成績\"))"
      ],
      "execution_count": 10,
      "outputs": [
        {
          "output_type": "stream",
          "text": [
            "請輸入第二次期中考成績85\n"
          ],
          "name": "stdout"
        }
      ]
    },
    {
      "cell_type": "code",
      "metadata": {
        "id": "MP2E-eunyM_2",
        "colab_type": "code",
        "colab": {
          "base_uri": "https://localhost:8080/",
          "height": 35
        },
        "outputId": "410b5d9a-9f53-4b73-ff1b-24edca86ac52"
      },
      "source": [
        "期末考成績 = int(input(\"請輸入期末考成績\"))"
      ],
      "execution_count": 11,
      "outputs": [
        {
          "output_type": "stream",
          "text": [
            "請輸入期末考成績85\n"
          ],
          "name": "stdout"
        }
      ]
    },
    {
      "cell_type": "code",
      "metadata": {
        "id": "j2WjxRBdyhJX",
        "colab_type": "code",
        "colab": {}
      },
      "source": [
        "總分數 = 第一次期中考成績 + 第二次期中考成績 + 期末考成績"
      ],
      "execution_count": 0,
      "outputs": []
    },
    {
      "cell_type": "code",
      "metadata": {
        "id": "bFJjJMo2yhLm",
        "colab_type": "code",
        "colab": {
          "base_uri": "https://localhost:8080/",
          "height": 35
        },
        "outputId": "1d4ad7f8-f0e2-4d3c-dbc1-c82581f5e1e1"
      },
      "source": [
        "print(\"總分數為\",總分數)"
      ],
      "execution_count": 13,
      "outputs": [
        {
          "output_type": "stream",
          "text": [
            "總分數為 250\n"
          ],
          "name": "stdout"
        }
      ]
    },
    {
      "cell_type": "code",
      "metadata": {
        "id": "UT_46mRhyhOG",
        "colab_type": "code",
        "colab": {}
      },
      "source": [
        "平均分數 = (第一次期中考成績 + 第二次期中考成績 + 期末考成績)//3"
      ],
      "execution_count": 0,
      "outputs": []
    },
    {
      "cell_type": "code",
      "metadata": {
        "id": "DvCC_VP7yoi2",
        "colab_type": "code",
        "colab": {
          "base_uri": "https://localhost:8080/",
          "height": 35
        },
        "outputId": "9a267ce8-9a4b-43a5-8666-c94540c340db"
      },
      "source": [
        "print(\"平均分數為\",平均分數)"
      ],
      "execution_count": 15,
      "outputs": [
        {
          "output_type": "stream",
          "text": [
            "平均分數為 83\n"
          ],
          "name": "stdout"
        }
      ]
    }
  ]
}