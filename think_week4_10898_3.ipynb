{
  "nbformat": 4,
  "nbformat_minor": 0,
  "metadata": {
    "colab": {
      "name": "think-week4-10898-2.ipynb",
      "provenance": [],
      "collapsed_sections": []
    },
    "kernelspec": {
      "name": "python3",
      "display_name": "Python 3"
    }
  },
  "cells": [
    {
      "cell_type": "code",
      "metadata": {
        "id": "_X1_r5DUcBMC",
        "colab_type": "code",
        "outputId": "f41a93d1-9447-491e-9cbc-e45d3b8494ca",
        "colab": {
          "base_uri": "https://localhost:8080/",
          "height": 35
        }
      },
      "source": [
        "print(\"Hello World\")"
      ],
      "execution_count": 0,
      "outputs": [
        {
          "output_type": "stream",
          "text": [
            "Hello World\n"
          ],
          "name": "stdout"
        }
      ]
    },
    {
      "cell_type": "markdown",
      "metadata": {
        "id": "GHUiLs2iiuQD",
        "colab_type": "text"
      },
      "source": [
        "早安我是黃冠瑋哦哦哦，學號是A108060008![alt text](https://)"
      ]
    },
    {
      "cell_type": "markdown",
      "metadata": {
        "id": "zTKAzOEAg7XY",
        "colab_type": "text"
      },
      "source": [
        "早安你好，我是黎孟承，學號A108060098，美好的一天從吃早餐開始，你今天吃早餐了嗎？"
      ]
    }
  ]
}