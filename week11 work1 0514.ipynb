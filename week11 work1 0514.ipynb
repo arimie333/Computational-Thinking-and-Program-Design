{
  "nbformat": 4,
  "nbformat_minor": 0,
  "metadata": {
    "colab": {
      "name": "Untitled9.ipynb",
      "provenance": [],
      "authorship_tag": "ABX9TyMFvgYn5Drgsc9TVVojna5+",
      "include_colab_link": true
    },
    "kernelspec": {
      "name": "python3",
      "display_name": "Python 3"
    }
  },
  "cells": [
    {
      "cell_type": "markdown",
      "metadata": {
        "id": "view-in-github",
        "colab_type": "text"
      },
      "source": [
        "<a href=\"https://colab.research.google.com/github/arimie333/Computational-Thinking-and-Program-Design/blob/master/week11%20work1%200514.ipynb\" target=\"_parent\"><img src=\"https://colab.research.google.com/assets/colab-badge.svg\" alt=\"Open In Colab\"/></a>"
      ]
    },
    {
      "cell_type": "code",
      "metadata": {
        "id": "KjLeoaah1jmP",
        "colab_type": "code",
        "colab": {}
      },
      "source": [
        "#聊天機器人自我介紹"
      ],
      "execution_count": 0,
      "outputs": []
    },
    {
      "cell_type": "code",
      "metadata": {
        "id": "p0NR2ZBs1_Dc",
        "colab_type": "code",
        "colab": {}
      },
      "source": [
        "print(\"哈囉。我是黃色小雞。我是你的專屬聊天機器人。\")"
      ],
      "execution_count": 0,
      "outputs": []
    },
    {
      "cell_type": "code",
      "metadata": {
        "id": "zhDetBld1_LB",
        "colab_type": "code",
        "colab": {}
      },
      "source": [
        "print(\"我喜歡動物，也喜歡聊食物。\")"
      ],
      "execution_count": 0,
      "outputs": []
    },
    {
      "cell_type": "code",
      "metadata": {
        "id": "YenxN0861_Nh",
        "colab_type": "code",
        "colab": {}
      },
      "source": [
        "# 取得使用者名字"
      ],
      "execution_count": 0,
      "outputs": []
    },
    {
      "cell_type": "code",
      "metadata": {
        "id": "ikJKgqJC1_P6",
        "colab_type": "code",
        "colab": {}
      },
      "source": [
        "name = input(\"你叫什麼名字哇？: \")"
      ],
      "execution_count": 0,
      "outputs": []
    },
    {
      "cell_type": "code",
      "metadata": {
        "id": "OG2E-RJB1_SJ",
        "colab_type": "code",
        "colab": {}
      },
      "source": [
        "# 打招呼"
      ],
      "execution_count": 0,
      "outputs": []
    },
    {
      "cell_type": "code",
      "metadata": {
        "id": "zJSG8-wW1_UZ",
        "colab_type": "code",
        "colab": {}
      },
      "source": [
        "print(\"嗨\", name, \"很高興認識你\")"
      ],
      "execution_count": 0,
      "outputs": []
    },
    {
      "cell_type": "code",
      "metadata": {
        "id": "7HHE6XL41_Wz",
        "colab_type": "code",
        "colab": {}
      },
      "source": [
        "# 從使用者取得今年年份"
      ],
      "execution_count": 0,
      "outputs": []
    },
    {
      "cell_type": "code",
      "metadata": {
        "id": "DXkBECAA1_ZK",
        "colab_type": "code",
        "colab": {}
      },
      "source": [
        "year = input(\"我記不太清楚日期。今年是幾年？： \")"
      ],
      "execution_count": 0,
      "outputs": []
    },
    {
      "cell_type": "code",
      "metadata": {
        "id": "JTFI9sAh1_bZ",
        "colab_type": "code",
        "colab": {}
      },
      "source": [
        "print(\"好的，我覺得沒錯。謝謝！\")"
      ],
      "execution_count": 0,
      "outputs": []
    },
    {
      "cell_type": "code",
      "metadata": {
        "id": "xXbEo1sX1_dy",
        "colab_type": "code",
        "colab": {}
      },
      "source": [
        "# 請使用者猜年齡"
      ],
      "execution_count": 0,
      "outputs": []
    },
    {
      "cell_type": "code",
      "metadata": {
        "id": "Vc6bICcm1_gM",
        "colab_type": "code",
        "colab": {}
      },
      "source": [
        "myage = input(\"要不要猜猜我幾歲？ - 輸入一個數字： \")"
      ],
      "execution_count": 0,
      "outputs": []
    },
    {
      "cell_type": "code",
      "metadata": {
        "id": "yy5Nlpxm1_ip",
        "colab_type": "code",
        "colab": {}
      },
      "source": [
        "print(\"賓果，你猜對了。我\", myage)"
      ],
      "execution_count": 0,
      "outputs": []
    },
    {
      "cell_type": "code",
      "metadata": {
        "id": "mH-BsU_j1_k6",
        "colab_type": "code",
        "colab": {}
      },
      "source": [
        "# 計算聊天機器人滿100歲的年份"
      ],
      "execution_count": 0,
      "outputs": []
    },
    {
      "cell_type": "code",
      "metadata": {
        "id": "_pNJxqKP2fyy",
        "colab_type": "code",
        "colab": {}
      },
      "source": [
        "myage = int(myage)"
      ],
      "execution_count": 0,
      "outputs": []
    },
    {
      "cell_type": "code",
      "metadata": {
        "id": "DUgKOTeJ2f2C",
        "colab_type": "code",
        "colab": {}
      },
      "source": [
        "nyears = 100 - myage"
      ],
      "execution_count": 0,
      "outputs": []
    },
    {
      "cell_type": "code",
      "metadata": {
        "id": "mCWqiNCk2f4y",
        "colab_type": "code",
        "colab": {}
      },
      "source": [
        "print(\"我再\", nyears, \"年就滿100歲了。\")"
      ],
      "execution_count": 0,
      "outputs": []
    },
    {
      "cell_type": "code",
      "metadata": {
        "id": "pffKON7M2f76",
        "colab_type": "code",
        "colab": {}
      },
      "source": [
        "print(\"到時候是\", int(year) + nyears) # 將今年年份轉換為整數"
      ],
      "execution_count": 0,
      "outputs": []
    },
    {
      "cell_type": "code",
      "metadata": {
        "id": "vMMce0KC2gF6",
        "colab_type": "code",
        "colab": {}
      },
      "source": [
        "# 食物話題"
      ],
      "execution_count": 0,
      "outputs": []
    },
    {
      "cell_type": "code",
      "metadata": {
        "id": "Mbh--NQj1_nq",
        "colab_type": "code",
        "colab": {}
      },
      "source": [
        "print(\"我喜歡雞排，也喜歡嘗試各種新食物。\")"
      ],
      "execution_count": 0,
      "outputs": []
    },
    {
      "cell_type": "code",
      "metadata": {
        "id": "4TIzUkzt2vAW",
        "colab_type": "code",
        "colab": {}
      },
      "source": [
        "food = input(\"你呢。你最喜歡的食物是什麼？： \")"
      ],
      "execution_count": 0,
      "outputs": []
    },
    {
      "cell_type": "code",
      "metadata": {
        "id": "bOYl5qKE2vKB",
        "colab_type": "code",
        "colab": {}
      },
      "source": [
        "print(\"我也喜歡\", food)"
      ],
      "execution_count": 0,
      "outputs": []
    },
    {
      "cell_type": "code",
      "metadata": {
        "id": "MTIer8B_2vPD",
        "colab_type": "code",
        "colab": {}
      },
      "source": [
        "question = \"你多久吃一次\" + food + \"?: \""
      ],
      "execution_count": 0,
      "outputs": []
    },
    {
      "cell_type": "code",
      "metadata": {
        "id": "Wxjjn6cL2vSL",
        "colab_type": "code",
        "colab": {}
      },
      "source": [
        "howoften = input(question)"
      ],
      "execution_count": 0,
      "outputs": []
    },
    {
      "cell_type": "code",
      "metadata": {
        "id": "qFLRwGQm2vU6",
        "colab_type": "code",
        "colab": {}
      },
      "source": [
        "print(\"真有趣。不知道這樣對健康好不好！\")"
      ],
      "execution_count": 0,
      "outputs": []
    },
    {
      "cell_type": "code",
      "metadata": {
        "id": "SbgljCkZ22kh",
        "colab_type": "code",
        "colab": {}
      },
      "source": [
        "# 動物話題"
      ],
      "execution_count": 0,
      "outputs": []
    },
    {
      "cell_type": "code",
      "metadata": {
        "id": "dQWCwtfV22nZ",
        "colab_type": "code",
        "colab": {}
      },
      "source": [
        "animal = input(\"我最喜歡的動物是小雞。你呢？； \")"
      ],
      "execution_count": 0,
      "outputs": []
    },
    {
      "cell_type": "code",
      "metadata": {
        "id": "nlQAbFDN22pp",
        "colab_type": "code",
        "colab": {}
      },
      "source": [
        "print(animal, \"! 我不喜歡。\")"
      ],
      "execution_count": 0,
      "outputs": []
    },
    {
      "cell_type": "code",
      "metadata": {
        "id": "jG57FG2s1_pz",
        "colab_type": "code",
        "colab": {}
      },
      "source": [
        "print(\"不知道\", animal, \"喜不喜歡吃\", food, \"?\")"
      ],
      "execution_count": 0,
      "outputs": []
    },
    {
      "cell_type": "code",
      "metadata": {
        "id": "Ab7lXu9Y3APa",
        "colab_type": "code",
        "colab": {}
      },
      "source": [
        "# 關於心情的對話"
      ],
      "execution_count": 0,
      "outputs": []
    },
    {
      "cell_type": "code",
      "metadata": {
        "id": "g7iY1xJX3AVS",
        "colab_type": "code",
        "colab": {}
      },
      "source": [
        "feeling = input(\"你今天好嗎？； \")"
      ],
      "execution_count": 0,
      "outputs": []
    },
    {
      "cell_type": "code",
      "metadata": {
        "id": "4t4syjW93AaM",
        "colab_type": "code",
        "colab": {}
      },
      "source": [
        "print(\"為什麼你現在覺得\", feeling, \"呢？\")"
      ],
      "execution_count": 0,
      "outputs": []
    },
    {
      "cell_type": "code",
      "metadata": {
        "id": "k5l6GQ7L3Acy",
        "colab_type": "code",
        "colab": {}
      },
      "source": [
        "reason = input(\"請告訴我： \")"
      ],
      "execution_count": 0,
      "outputs": []
    },
    {
      "cell_type": "code",
      "metadata": {
        "id": "_160xXwM3Afj",
        "colab_type": "code",
        "colab": {}
      },
      "source": [
        "print(\"我知道了。謝謝分享。\")"
      ],
      "execution_count": 0,
      "outputs": []
    },
    {
      "cell_type": "code",
      "metadata": {
        "id": "Rc-9ds2d3AiC",
        "colab_type": "code",
        "colab": {}
      },
      "source": [
        "# 道別"
      ],
      "execution_count": 0,
      "outputs": []
    },
    {
      "cell_type": "code",
      "metadata": {
        "id": "AIa1X--Q3Mve",
        "colab_type": "code",
        "colab": {}
      },
      "source": [
        "print(\"今天好累！\")"
      ],
      "execution_count": 0,
      "outputs": []
    },
    {
      "cell_type": "code",
      "metadata": {
        "id": "vB1EgYvk3M17",
        "colab_type": "code",
        "colab": {}
      },
      "source": [
        "print(\"有人跟你說過你聊天很無聊嗎？\")"
      ],
      "execution_count": 0,
      "outputs": []
    },
    {
      "cell_type": "code",
      "metadata": {
        "id": "0npMKmIa3Aky",
        "colab_type": "code",
        "colab": {}
      },
      "source": [
        "print(\"掰掰\", name,\"希望下個和我聊天的人比你風趣\" )"
      ],
      "execution_count": 0,
      "outputs": []
    }
  ]
}