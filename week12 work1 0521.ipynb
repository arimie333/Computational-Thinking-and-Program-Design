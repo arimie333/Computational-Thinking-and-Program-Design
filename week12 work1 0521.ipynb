{
  "nbformat": 4,
  "nbformat_minor": 0,
  "metadata": {
    "colab": {
      "name": "Untitled10.ipynb",
      "provenance": [],
      "authorship_tag": "ABX9TyOHyCiIHQbiztnbPJZKvyBS",
      "include_colab_link": true
    },
    "kernelspec": {
      "name": "python3",
      "display_name": "Python 3"
    }
  },
  "cells": [
    {
      "cell_type": "markdown",
      "metadata": {
        "id": "view-in-github",
        "colab_type": "text"
      },
      "source": [
        "<a href=\"https://colab.research.google.com/github/arimie333/Computational-Thinking-and-Program-Design/blob/master/week12%20work1%200521.ipynb\" target=\"_parent\"><img src=\"https://colab.research.google.com/assets/colab-badge.svg\" alt=\"Open In Colab\"/></a>"
      ]
    },
    {
      "cell_type": "code",
      "metadata": {
        "id": "l9M1KWbkzHQM",
        "colab_type": "code",
        "colab": {
          "base_uri": "https://localhost:8080/",
          "height": 35
        },
        "outputId": "f4f3452b-9b91-46b6-8b5f-43349b04b289"
      },
      "source": [
        "noodle = input(\"有麵嗎?(YES/NO)\")"
      ],
      "execution_count": 1,
      "outputs": [
        {
          "output_type": "stream",
          "text": [
            "有麵嗎?(YES/NO)YES\n"
          ],
          "name": "stdout"
        }
      ]
    },
    {
      "cell_type": "code",
      "metadata": {
        "id": "nvna-AO_3-sN",
        "colab_type": "code",
        "colab": {
          "base_uri": "https://localhost:8080/",
          "height": 35
        },
        "outputId": "ecf51f2f-4fb3-4403-fca7-476d00fabd37"
      },
      "source": [
        "sauce = input(\"有醬料嗎?(YES/NO)\")"
      ],
      "execution_count": 2,
      "outputs": [
        {
          "output_type": "stream",
          "text": [
            "有醬料嗎?(YES/NO)YES\n"
          ],
          "name": "stdout"
        }
      ]
    },
    {
      "cell_type": "code",
      "metadata": {
        "id": "g2jB4N6K4KxL",
        "colab_type": "code",
        "colab": {
          "base_uri": "https://localhost:8080/",
          "height": 35
        },
        "outputId": "b869802b-edd5-4b1f-f30e-384e9e016cb5"
      },
      "source": [
        "if noodle == \"YES\" :\n",
        "        if sauce == \"YES\" :\n",
        "                print(\"讓我們來做義大利麵吧!\")"
      ],
      "execution_count": 10,
      "outputs": [
        {
          "output_type": "stream",
          "text": [
            "讓我們來做義大利麵吧!\n"
          ],
          "name": "stdout"
        }
      ]
    },
    {
      "cell_type": "code",
      "metadata": {
        "id": "62LiJLTN4LL7",
        "colab_type": "code",
        "colab": {}
      },
      "source": [
        "#更簡潔的寫法"
      ],
      "execution_count": 0,
      "outputs": []
    },
    {
      "cell_type": "code",
      "metadata": {
        "id": "ke0XHF_K4-nT",
        "colab_type": "code",
        "colab": {
          "base_uri": "https://localhost:8080/",
          "height": 35
        },
        "outputId": "9696365d-6359-4458-cf89-989e4ae9b3b8"
      },
      "source": [
        "if noodle == \"YES\" and sauce == \"YES\":\n",
        "    print(\"讓我們來做義大利麵吧!\")"
      ],
      "execution_count": 9,
      "outputs": [
        {
          "output_type": "stream",
          "text": [
            "讓我們來做義大利麵吧!\n"
          ],
          "name": "stdout"
        }
      ]
    }
  ]
}