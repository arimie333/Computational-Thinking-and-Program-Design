{
  "nbformat": 4,
  "nbformat_minor": 0,
  "metadata": {
    "colab": {
      "name": "Untitled5.ipynb",
      "provenance": [],
      "authorship_tag": "ABX9TyPJsmz7NyewD/Yc4XGfLi39",
      "include_colab_link": true
    },
    "kernelspec": {
      "name": "python3",
      "display_name": "Python 3"
    }
  },
  "cells": [
    {
      "cell_type": "markdown",
      "metadata": {
        "id": "view-in-github",
        "colab_type": "text"
      },
      "source": [
        "<a href=\"https://colab.research.google.com/github/arimie333/Computational-Thinking-and-Program-Design/blob/master/week7%20work%200416.ipynb\" target=\"_parent\"><img src=\"https://colab.research.google.com/assets/colab-badge.svg\" alt=\"Open In Colab\"/></a>"
      ]
    },
    {
      "cell_type": "code",
      "metadata": {
        "id": "aryvptNrnuCM",
        "colab_type": "code",
        "colab": {}
      },
      "source": [
        "# 1. 從維基百科找出要記錄梨泰院韓劇的相關資訊"
      ],
      "execution_count": 0,
      "outputs": []
    },
    {
      "cell_type": "code",
      "metadata": {
        "id": "D10hu2Bqn6Ur",
        "colab_type": "code",
        "colab": {}
      },
      "source": [
        "# 2. 網址:https://zh.wikipedia.org/wiki/%E6%A2%A8%E6%B3%B0%E9%99%A2Class"
      ],
      "execution_count": 0,
      "outputs": []
    },
    {
      "cell_type": "code",
      "metadata": {
        "id": "eyYtKK4poB6i",
        "colab_type": "code",
        "colab": {}
      },
      "source": [
        "# 3. 相關資訊:韓劇名稱、放映日期、片長、主要演員......"
      ],
      "execution_count": 0,
      "outputs": []
    },
    {
      "cell_type": "code",
      "metadata": {
        "id": "qfVCuS_moZRq",
        "colab_type": "code",
        "colab": {}
      },
      "source": [
        "drama_title = \"梨泰院Class\" # 韓劇名稱"
      ],
      "execution_count": 0,
      "outputs": []
    },
    {
      "cell_type": "code",
      "metadata": {
        "id": "p2M0YZSZogcS",
        "colab_type": "code",
        "colab": {}
      },
      "source": [
        "release_year = \"2020\" # 放映年份"
      ],
      "execution_count": 0,
      "outputs": []
    },
    {
      "cell_type": "code",
      "metadata": {
        "id": "lEhvsHcjrOaK",
        "colab_type": "code",
        "colab": {}
      },
      "source": [
        "release_date = \"0131 - 0321\" #放映日期"
      ],
      "execution_count": 0,
      "outputs": []
    },
    {
      "cell_type": "code",
      "metadata": {
        "id": "KEoMcqhHoofK",
        "colab_type": "code",
        "colab": {}
      },
      "source": [
        "drama_time_min = \"60\" # 每集片長"
      ],
      "execution_count": 0,
      "outputs": []
    },
    {
      "cell_type": "code",
      "metadata": {
        "id": "rS3Grm9Box6T",
        "colab_type": "code",
        "colab": {}
      },
      "source": [
        "screenwriter = \"趙光真\" # 編劇"
      ],
      "execution_count": 0,
      "outputs": []
    },
    {
      "cell_type": "code",
      "metadata": {
        "id": "aYUOJE0NpDny",
        "colab_type": "code",
        "colab": {}
      },
      "source": [
        "director = \"金成允、姜敏九\" # 導演"
      ],
      "execution_count": 0,
      "outputs": []
    },
    {
      "cell_type": "code",
      "metadata": {
        "id": "dV69wyRBpLwZ",
        "colab_type": "code",
        "colab": {}
      },
      "source": [
        "stars_1 = \"朴敘俊\" #飾朴世路"
      ],
      "execution_count": 0,
      "outputs": []
    },
    {
      "cell_type": "code",
      "metadata": {
        "id": "680KzjtypfO2",
        "colab_type": "code",
        "colab": {}
      },
      "source": [
        "stars_2 = \"金多美\" #飾趙以瑞"
      ],
      "execution_count": 0,
      "outputs": []
    },
    {
      "cell_type": "code",
      "metadata": {
        "id": "cgvDE7ZkpfZi",
        "colab_type": "code",
        "colab": {}
      },
      "source": [
        "stars_3 = \"權娜拉\" #飾吳秀雅"
      ],
      "execution_count": 0,
      "outputs": []
    },
    {
      "cell_type": "code",
      "metadata": {
        "id": "da1lafTMpfii",
        "colab_type": "code",
        "colab": {}
      },
      "source": [
        "stars_4 = \"劉在明\" #飾張大熙"
      ],
      "execution_count": 0,
      "outputs": []
    },
    {
      "cell_type": "code",
      "metadata": {
        "id": "EnDa0G-MqZBE",
        "colab_type": "code",
        "colab": {}
      },
      "source": [
        "premiere_channel = \"JTBC\" #首播頻道"
      ],
      "execution_count": 0,
      "outputs": []
    },
    {
      "cell_type": "code",
      "metadata": {
        "id": "vE_XLlCErFUk",
        "colab_type": "code",
        "colab": {
          "base_uri": "https://localhost:8080/",
          "height": 35
        },
        "outputId": "a995069d-e5ce-4cc9-d1bf-7ac44786c164"
      },
      "source": [
        "print(drama_title)"
      ],
      "execution_count": 3,
      "outputs": [
        {
          "output_type": "stream",
          "text": [
            "梨泰院Class\n"
          ],
          "name": "stdout"
        }
      ]
    },
    {
      "cell_type": "code",
      "metadata": {
        "id": "S25Ss4gGrvSy",
        "colab_type": "code",
        "colab": {
          "base_uri": "https://localhost:8080/",
          "height": 35
        },
        "outputId": "4651d7bc-940b-46d4-9b87-fe7cfc9fea28"
      },
      "source": [
        "print(release_year)"
      ],
      "execution_count": 6,
      "outputs": [
        {
          "output_type": "stream",
          "text": [
            "2020\n"
          ],
          "name": "stdout"
        }
      ]
    },
    {
      "cell_type": "code",
      "metadata": {
        "id": "So3HjsNyr56S",
        "colab_type": "code",
        "colab": {
          "base_uri": "https://localhost:8080/",
          "height": 35
        },
        "outputId": "ebbe78e8-415b-433c-9633-663751e386c1"
      },
      "source": [
        "print(release_date)"
      ],
      "execution_count": 8,
      "outputs": [
        {
          "output_type": "stream",
          "text": [
            "0131 - 0321\n"
          ],
          "name": "stdout"
        }
      ]
    },
    {
      "cell_type": "code",
      "metadata": {
        "id": "r5SF5fZar6C6",
        "colab_type": "code",
        "colab": {
          "base_uri": "https://localhost:8080/",
          "height": 35
        },
        "outputId": "f8cba0d3-812b-4aa1-800e-412eb67e0f89"
      },
      "source": [
        "print(drama_time_min)"
      ],
      "execution_count": 10,
      "outputs": [
        {
          "output_type": "stream",
          "text": [
            "60\n"
          ],
          "name": "stdout"
        }
      ]
    },
    {
      "cell_type": "code",
      "metadata": {
        "id": "hilJWU82r6JJ",
        "colab_type": "code",
        "colab": {
          "base_uri": "https://localhost:8080/",
          "height": 35
        },
        "outputId": "8ae25389-cbe7-478a-a5e4-f56a13d89748"
      },
      "source": [
        "print(screenwriter)"
      ],
      "execution_count": 12,
      "outputs": [
        {
          "output_type": "stream",
          "text": [
            "趙光真\n"
          ],
          "name": "stdout"
        }
      ]
    },
    {
      "cell_type": "code",
      "metadata": {
        "id": "4fVGPSnyr6P8",
        "colab_type": "code",
        "colab": {
          "base_uri": "https://localhost:8080/",
          "height": 35
        },
        "outputId": "bb4c661d-ba59-481b-ae8a-e2ac1a946d2b"
      },
      "source": [
        "print(director)"
      ],
      "execution_count": 16,
      "outputs": [
        {
          "output_type": "stream",
          "text": [
            "金成允、姜敏九\n"
          ],
          "name": "stdout"
        }
      ]
    },
    {
      "cell_type": "code",
      "metadata": {
        "id": "aLIVPPXKr6VA",
        "colab_type": "code",
        "colab": {
          "base_uri": "https://localhost:8080/",
          "height": 35
        },
        "outputId": "73f2f05c-f174-4630-e8e3-47db7dd4ab54"
      },
      "source": [
        "print(stars_1)"
      ],
      "execution_count": 18,
      "outputs": [
        {
          "output_type": "stream",
          "text": [
            "朴敘俊\n"
          ],
          "name": "stdout"
        }
      ]
    },
    {
      "cell_type": "code",
      "metadata": {
        "id": "RGEYG4EEr6aH",
        "colab_type": "code",
        "colab": {
          "base_uri": "https://localhost:8080/",
          "height": 35
        },
        "outputId": "ac62bb44-317a-4928-d7d1-9851ec63cd31"
      },
      "source": [
        "print(stars_2)"
      ],
      "execution_count": 20,
      "outputs": [
        {
          "output_type": "stream",
          "text": [
            "金多美\n"
          ],
          "name": "stdout"
        }
      ]
    },
    {
      "cell_type": "code",
      "metadata": {
        "id": "PKaH69DBsctb",
        "colab_type": "code",
        "colab": {
          "base_uri": "https://localhost:8080/",
          "height": 35
        },
        "outputId": "32229302-e5f4-49c4-940f-fdb662b5f59f"
      },
      "source": [
        "print(stars_3)"
      ],
      "execution_count": 22,
      "outputs": [
        {
          "output_type": "stream",
          "text": [
            "權娜拉\n"
          ],
          "name": "stdout"
        }
      ]
    },
    {
      "cell_type": "code",
      "metadata": {
        "id": "oiyEVrYlsc_K",
        "colab_type": "code",
        "colab": {
          "base_uri": "https://localhost:8080/",
          "height": 35
        },
        "outputId": "712b8a31-554c-4e77-b8f1-c567a0738075"
      },
      "source": [
        "print(stars_4)"
      ],
      "execution_count": 24,
      "outputs": [
        {
          "output_type": "stream",
          "text": [
            "劉在明\n"
          ],
          "name": "stdout"
        }
      ]
    },
    {
      "cell_type": "code",
      "metadata": {
        "id": "1rNUyYwzsdLi",
        "colab_type": "code",
        "colab": {
          "base_uri": "https://localhost:8080/",
          "height": 35
        },
        "outputId": "bc2bd37b-c09a-4d3b-a187-3314c91df877"
      },
      "source": [
        "print(premiere_channel)"
      ],
      "execution_count": 29,
      "outputs": [
        {
          "output_type": "stream",
          "text": [
            "JTBC\n"
          ],
          "name": "stdout"
        }
      ]
    }
  ]
}